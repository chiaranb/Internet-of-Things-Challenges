{
 "cells": [
  {
   "cell_type": "code",
   "execution_count": null,
   "metadata": {},
   "outputs": [],
   "source": [
    "from scapy.all import rdpcap, bind_bottom_up, bind_layers, Raw\n",
    "from scapy.contrib.coap import CoAP\n",
    "from scapy.layers.inet import IP, UDP, TCP\n",
    "from scapy.layers.dns import DNSRR\n",
    "from scapy.contrib.mqtt import MQTT, MQTTSubscribe, MQTTConnect, MQTTTopicQOS, MQTTPublish\n",
    "from scapy.contrib.mqttsn import MQTTSN, MQTTSNPublish\n"
   ]
  },
  {
   "cell_type": "code",
   "execution_count": 2,
   "metadata": {},
   "outputs": [],
   "source": [
    "# Overwrite ports configuration for CoAP\n",
    "bind_layers(UDP, CoAP, sport=5683)\n",
    "bind_layers(UDP, CoAP, dport=5683)"
   ]
  },
  {
   "cell_type": "code",
   "execution_count": 3,
   "metadata": {},
   "outputs": [],
   "source": [
    "# Overwrite ports configuration for MQTT\n",
    "bind_layers(TCP, MQTT, sport=1883)\n",
    "bind_layers(TCP, MQTT, dport=1883)"
   ]
  },
  {
   "cell_type": "code",
   "execution_count": 4,
   "metadata": {},
   "outputs": [],
   "source": [
    "# Overwrite ports configuration for MQTT-SN\n",
    "bind_bottom_up(UDP, MQTTSN, sport=1885)\n",
    "bind_bottom_up(UDP, MQTTSN, dport=1885)\n",
    "bind_layers(UDP, MQTTSN, dport=1885, sport=1885)"
   ]
  },
  {
   "cell_type": "code",
   "execution_count": 5,
   "metadata": {},
   "outputs": [
    {
     "name": "stderr",
     "output_type": "stream",
     "text": [
      "WARNING: Invalid Option Delta or Length\n",
      "WARNING: Invalid Option Delta or Length\n",
      "WARNING: Invalid Option Length or Delta 15\n",
      "WARNING: Invalid Option Length or Delta 15\n",
      "WARNING: more Invalid Option Delta or Length\n",
      "WARNING: more Invalid Option Length or Delta 15\n"
     ]
    }
   ],
   "source": [
    "packets = rdpcap(\"./challenge2.pcapng\")"
   ]
  },
  {
   "cell_type": "markdown",
   "metadata": {},
   "source": [
    "## Question 1"
   ]
  },
  {
   "cell_type": "markdown",
   "metadata": {},
   "source": [
    "How many different Confirmable PUT requests obtained an unsuccessful response from the local CoAP server?"
   ]
  },
  {
   "cell_type": "code",
   "execution_count": 31,
   "metadata": {},
   "outputs": [
    {
     "name": "stdout",
     "output_type": "stream",
     "text": [
      "Unique Confirmable PUT request tokens: 26\n",
      "Unsuccessful ACK response: 133 for token: b'r\\xa5\\xb8@\\xc7\\xf4\\x08E'\n",
      "Unsuccessful ACK response: 132 for token: b'\\x9b\\xe6p\\x9d\\x82\\x05\\x8e\\xfc'\n",
      "Unsuccessful ACK response: 133 for token: b'Y\\xf2t\\x1dW7\\x9bT'\n",
      "Unsuccessful ACK response: 132 for token: b'xX\\x9c\\xd0\\x0c\\xc1\\xf6s'\n",
      "Unsuccessful ACK response: 133 for token: b'\\x9fC\\xd8\\n\\x1f\\xa8$I'\n",
      "Unsuccessful ACK response: 133 for token: b'\\xd7\\xdbH\\xb0x\\x93Zg'\n",
      "Unsuccessful ACK response: 132 for token: b'E\\xca\\xc1[\\xab\\xf2\\xda,'\n",
      "Unsuccessful ACK response: 133 for token: b'=\\x9b\\xaf\\xceFAR\\xc9'\n",
      "Unsuccessful ACK response: 132 for token: b'\\x86\\xf0\\x81>\\xaf\\xcf\\xaf\\xb0'\n",
      "Unsuccessful ACK response: 133 for token: b'\\xdd\\x02P,\\xe1\\xce\\x9c\\x96'\n",
      "Unsuccessful ACK response: 132 for token: b'\\xa9\\x19=\\x83\\x1f_\\x04\\xb8'\n",
      "Unsuccessful ACK response: 132 for token: b'\\x90\\xba\\x9ch\\xc9\\x11\\x02\"'\n",
      "Unsuccessful ACK response: 133 for token: b'$\\xcdi\\x82\\xb5P\\x8e@'\n",
      "Unsuccessful ACK response: 133 for token: b'W\\n.\\xcd\\xb7/?+'\n",
      "Unsuccessful ACK response: 133 for token: b'\\xab\\xe6\\x91\\xf7\\x0f\\xa1\\x95\\x16'\n",
      "Unsuccessful ACK response: 133 for token: b')\\x07\\x14\\x8f\\xb1h\\xab\\xf8'\n",
      "Unsuccessful ACK response: 133 for token: b'\\xa2\\x98\\xb9>Y\\xcd\\x04\\xa3'\n",
      "Unsuccessful ACK response: 133 for token: b'?*\\x9e\\x16\\xd0\\xf4\\x93\\x14'\n",
      "Unsuccessful ACK response: 133 for token: b'9-\\x04;\\xech\\xbd\\xf4'\n",
      "Unsuccessful ACK response: 133 for token: b'\\xd0\\x16\\xdbF\\xb3Q\\x0c\\xa4'\n",
      "Unsuccessful ACK response: 133 for token: b'\\xead+\\x05\\xbf\\xfcU\\x80'\n",
      "Unsuccessful ACK response: 132 for token: b'J\\xe5\\xb4\\x8a\\x0bw\\xder'\n",
      "Tokens with 404 Not Found: 7\n",
      "Tokens with 405 Method Not Allowed: 15\n",
      "Number of unsuccessful ACK responses: 22\n"
     ]
    }
   ],
   "source": [
    "# Set to track unique tokens of Confirmable PUT requests\n",
    "confirmable_put_tokens = set()\n",
    "unsuccessful_acks = 0\n",
    "\n",
    "local_coap_server_ip = \"127.0.0.1\"\n",
    "\n",
    "# Collect tokens of Confirmable PUT requests\n",
    "for packet in packets:\n",
    "    if (\n",
    "        packet.haslayer(CoAP) # Check if packet has CoAP layer\n",
    "        and packet[CoAP].code == 3  # PUT request\n",
    "        and packet[CoAP].type == 0  # Confirmable\n",
    "        and packet[IP].dst == local_coap_server_ip # Destination IP local server\n",
    "        and packet[CoAP].token  # Ensure the token exists\n",
    "    ):\n",
    "        confirmable_put_tokens.add(packet[CoAP].token)\n",
    "\n",
    "print(f\"Unique Confirmable PUT request tokens: {len(confirmable_put_tokens)}\")\n",
    "\n",
    "not_found_tokens = set()\n",
    "method_not_allowed_tokens = set()\n",
    "# Count unsuccessful responses (ACKs) from the server\n",
    "for packet in packets:\n",
    "    if (\n",
    "        packet.haslayer(CoAP) # Check if packet has CoAP layer\n",
    "        and packet[CoAP].type == 2  # Acknowledgment response\n",
    "        and packet[IP].src == local_coap_server_ip  # Response from server\n",
    "        and packet[CoAP].token in confirmable_put_tokens  # Matches previous requests\n",
    "        and packet[CoAP].code >= 128  # Error response (4.xx or 5.xx codes)\n",
    "    ):\n",
    "        unsuccessful_acks += 1\n",
    "        print(f\"Unsuccessful ACK response: {packet[CoAP].code} for token: {packet[CoAP].token}\")\n",
    "        if packet[CoAP].code == 132:\n",
    "            not_found_tokens.add(packet[CoAP].token)\n",
    "        elif packet[CoAP].code == 133:\n",
    "            method_not_allowed_tokens.add(packet[CoAP].token)\n",
    "        #print(packet[CoAP].token)\n",
    "print(f\"Tokens with 404 Not Found: {len(not_found_tokens)}\")\n",
    "print(f\"Tokens with 405 Method Not Allowed: {len(method_not_allowed_tokens)}\")\n",
    "print(f\"Number of unsuccessful ACK responses: {unsuccessful_acks}\")"
   ]
  },
  {
   "cell_type": "markdown",
   "metadata": {},
   "source": [
    "Result: 22"
   ]
  },
  {
   "cell_type": "markdown",
   "metadata": {},
   "source": [
    "## Question 2"
   ]
  },
  {
   "cell_type": "markdown",
   "metadata": {},
   "source": [
    "How many CoAP resources in the coap.me public server received the same number of unique Confirmable and Non Confirmable GET requests?"
   ]
  },
  {
   "cell_type": "code",
   "execution_count": 26,
   "metadata": {},
   "outputs": [
    {
     "name": "stdout",
     "output_type": "stream",
     "text": [
      "coap.me IPs: {'134.102.218.18'}\n"
     ]
    }
   ],
   "source": [
    " # Find IPs of the coap.me server by looking to the DNS requests\n",
    "coapme = []\n",
    "for p in packets:\n",
    "    if (p.haslayer(DNSRR) # Only DNS Resource Record packets\n",
    "        and p[DNSRR].type == 1 # Only records of type A\n",
    "        # Only records for the coap.me server\n",
    "        and p[DNSRR].rrname == b'coap.me.'\n",
    "    ):\n",
    "        # Save the IP of the coap.me server\n",
    "        coapme.append(p[DNSRR].rdata)\n",
    "# Only unique IPs\n",
    "coapme = set(coapme)\n",
    "print(\"coap.me IPs:\", coapme)"
   ]
  },
  {
   "cell_type": "code",
   "execution_count": 27,
   "metadata": {},
   "outputs": [
    {
     "name": "stdout",
     "output_type": "stream",
     "text": [
      "Option: b'large', Confirmable Count: 14, Non-Confirmable Count: 14\n",
      "Option: b'validate', Confirmable Count: 1, Non-Confirmable Count: 1\n",
      "Option: b'secret', Confirmable Count: 1, Non-Confirmable Count: 1\n",
      "Number of CoAP options with the same count for Confirmable and Non-Confirmable requests: 3\n"
     ]
    }
   ],
   "source": [
    "con_requests = {}\n",
    "non_con_requests = {}\n",
    "\n",
    "for p in packets:\n",
    "    if (\n",
    "        p.haslayer(CoAP)  # Only CoAP Packets\n",
    "        and p[CoAP].code == 1  # Only GET requests\n",
    "        and p[IP].dst in coapme  # Requests directed to coap.me\n",
    "    ):\n",
    "        # Create a dictionary to store the count of each option\n",
    "        option_counts = {}\n",
    "        \n",
    "        # Iterate over the options in the CoAP packet\n",
    "        for option in p[CoAP].options:\n",
    "            option_value = option[1]\n",
    "            # Update the count of the option in the dictionary\n",
    "            if option_value in option_counts:\n",
    "                option_counts[option_value] += 1\n",
    "            else:\n",
    "                option_counts[option_value] = 1\n",
    "        \n",
    "        # Store the resource in the appropriate list based on message type\n",
    "        if p[CoAP].type == 0:  # Confirmable\n",
    "            # Update con_requests with option counts for each Confirmable message\n",
    "            for opt, count in option_counts.items():\n",
    "                if opt in con_requests:\n",
    "                    con_requests[opt] += count\n",
    "                else:\n",
    "                    con_requests[opt] = count\n",
    "        elif p[CoAP].type == 1:  # Non-Confirmable\n",
    "            # Update non_con_requests with option counts for each Non-Confirmable message\n",
    "            for opt, count in option_counts.items():\n",
    "                if opt in non_con_requests:\n",
    "                    non_con_requests[opt] += count\n",
    "                else:\n",
    "                    non_con_requests[opt] = count\n",
    "\n",
    "matches = 0\n",
    "for opt in con_requests:\n",
    "    if opt in non_con_requests and con_requests[opt] == non_con_requests[opt] and len(opt) > 1:\n",
    "        print(f\"Option: {opt}, Confirmable Count: {con_requests[opt]}, Non-Confirmable Count: {non_con_requests[opt]}\")\n",
    "        matches += 1\n",
    "        \n",
    "print(f\"Number of CoAP options with the same count for Confirmable and Non-Confirmable requests: {matches}\")"
   ]
  },
  {
   "cell_type": "markdown",
   "metadata": {},
   "source": [
    "Result: 3"
   ]
  },
  {
   "cell_type": "markdown",
   "metadata": {},
   "source": [
    "## Question 3"
   ]
  },
  {
   "cell_type": "markdown",
   "metadata": {},
   "source": [
    "How many different MQTT clients subscribe to the public broker HiveMQ using multi-level wildcards?"
   ]
  },
  {
   "cell_type": "code",
   "execution_count": 32,
   "metadata": {},
   "outputs": [
    {
     "name": "stdout",
     "output_type": "stream",
     "text": [
      "HiveMQ IPs: {'18.192.151.104', '35.158.43.69'}\n"
     ]
    }
   ],
   "source": [
    "# Find IPs of the HiveMQ server by looking to the DNS requests\n",
    "hivemq = []\n",
    "for p in packets:\n",
    "    if (\n",
    "        p.haslayer(DNSRR) # Only DNS Resource Record packets\n",
    "        and p[DNSRR].type == 1 # Only records of type A\n",
    "        # Only records for the HiveMQ server\n",
    "        and p[DNSRR].rrname == b'broker.hivemq.com.'\n",
    "    ):\n",
    "        hivemq.append(p[DNSRR].rdata)\n",
    "    \n",
    "# Only unique IPs\n",
    "hivemq = set(hivemq)\n",
    "print(\"HiveMQ IPs:\", hivemq)"
   ]
  },
  {
   "cell_type": "code",
   "execution_count": 39,
   "metadata": {},
   "outputs": [
    {
     "name": "stdout",
     "output_type": "stream",
     "text": [
      "Topic: university/+/+/#, Count: 1, Source Port: 38641\n",
      "Topic: university/room0/room1/#, Count: 1, Source Port: 38619\n",
      "Topic: house/#, Count: 1, Source Port: 54449\n",
      "Topic: university/#, Count: 1, Source Port: 38619\n",
      "Topic: university/building2/section0/#, Count: 1, Source Port: 57863\n",
      "Topic: factory/department3/floor0/#, Count: 1, Source Port: 38619\n",
      "Number of unique source ports: 4\n",
      "Unique source ports: {38641, 38619, 54449, 57863}\n"
     ]
    }
   ],
   "source": [
    "# Set to store unique source ports (clients)\n",
    "unique_src_ports = set()\n",
    "topic_src_ports = {}\n",
    "\n",
    "for p in packets:\n",
    "    if (\n",
    "        p.haslayer(MQTT)  # Only MQTT packets\n",
    "        and p[MQTT].type == 8  # Only Subscribe packets\n",
    "        and p.haslayer(IP) # Only IP packets\n",
    "        and p[IP].dst in hivemq  # Requests directed to HiveMQ\n",
    "    ):\n",
    "\n",
    "        found_topic = None \n",
    "        # Check if the packet has topics \n",
    "        if hasattr(p[MQTTSubscribe], \"topics\") and isinstance(p[MQTTSubscribe].topics, list):\n",
    "            for topic_entry in p[MQTTSubscribe].topics:\n",
    "                if hasattr(topic_entry, \"topic\") and topic_entry.topic:\n",
    "                    found_topic = topic_entry.topic.decode() if isinstance(topic_entry.topic, bytes) else topic_entry.topic\n",
    "                    break\n",
    "                \n",
    "        # Check if the packet has a Raw layer\n",
    "        if not found_topic and p.haslayer(Raw): \n",
    "            raw_data = p[Raw].load\n",
    "            found_topic = raw_data[:-1].decode()\n",
    "\n",
    "        # Check if the topic contains multi-level wildcard \n",
    "        if found_topic and \"#\" in found_topic:\n",
    "            topic_src_ports[found_topic] = topic_src_ports.get(found_topic, 0) + 1\n",
    "            print(f\"Topic: {found_topic}, Count: {topic_src_ports[found_topic]}, Source Port: {p[IP].sport}\")\n",
    "            unique_src_ports.add(p[IP].sport)\n",
    "\n",
    "print(f\"Number of unique source ports: {len(unique_src_ports)}\")\n",
    "print(\"Unique source ports:\", unique_src_ports)\n"
   ]
  },
  {
   "cell_type": "markdown",
   "metadata": {},
   "source": [
    "Result: 4"
   ]
  },
  {
   "cell_type": "markdown",
   "metadata": {},
   "source": [
    "## Question 4"
   ]
  },
  {
   "cell_type": "markdown",
   "metadata": {},
   "source": [
    "How many different MQTT clients specify a last Will Message to be directed to a topic having as first level ”university”?"
   ]
  },
  {
   "cell_type": "code",
   "execution_count": 147,
   "metadata": {},
   "outputs": [
    {
     "name": "stdout",
     "output_type": "stream",
     "text": [
      "Will topic: university/department12/room1/temperature\n",
      "Client (port source) with LWT topic containing 'university': 38083\n",
      "Will topic: metaverse/room2/floor4\n",
      "Will topic: metaverse/room2/room2\n",
      "Number of MQTT clients with LWT topic containing 'university': 1\n"
     ]
    }
   ],
   "source": [
    "mqtt_clients_with_lwt_university = set()\n",
    "\n",
    "for p in packets:\n",
    "    if (\n",
    "        p.haslayer(MQTTConnect)  # Only MQTT Connect packets\n",
    "        and p[MQTTConnect].willflag == 1  # Will flag is set\n",
    "    ):\n",
    "        # Check if willtopic exists and is not empty\n",
    "        if hasattr(p[MQTTConnect], 'willtopic') and p[MQTTConnect].willtopic and len(p[MQTTConnect].willtopic) > 0:\n",
    "            will_topic = p[MQTTConnect].willtopic.decode() if isinstance(p[MQTTConnect].willtopic, bytes) else p[MQTTConnect].willtopic\n",
    "            print(f\"Will topic: {will_topic}\")\n",
    "\n",
    "            # Check if the will topic contains \"university\"\n",
    "            if \"university\" in will_topic:\n",
    "                mqtt_clients_with_lwt_university.add(p[TCP].sport)\n",
    "                print(f\"Client (port source) with LWT topic containing 'university': {p[TCP].sport}\")\n",
    "\n",
    "print(f\"Number of MQTT clients with LWT topic containing 'university': {len(mqtt_clients_with_lwt_university)}\")"
   ]
  },
  {
   "cell_type": "markdown",
   "metadata": {},
   "source": [
    "Result: I retrieved 4 packets, only one packet the number 4 (Source Port: 38083) has last Will Message directed to a topic having as first level ”university”"
   ]
  },
  {
   "cell_type": "markdown",
   "metadata": {},
   "source": [
    "## Question 5"
   ]
  },
  {
   "cell_type": "markdown",
   "metadata": {},
   "source": [
    "How many MQTT subscribers receive a last will message derived from a subscription without a wildcard?"
   ]
  },
  {
   "cell_type": "code",
   "execution_count": null,
   "metadata": {},
   "outputs": [
    {
     "name": "stdout",
     "output_type": "stream",
     "text": [
      "Unique LWT topics without wildcard: {'metaverse/room2/room2', 'university/department12/room1/temperature', 'metaverse/room2/floor4'}\n",
      "Number of unique LWT topics without wildcard: 3\n",
      "Will topic: university/department12/room1/temperature\n",
      "Client (port source) with LWT topic without wildcard: 39551\n",
      "Will topic: university/department12/room1/temperature\n",
      "Client (port source) with LWT topic without wildcard: 53557\n",
      "Will topic: university/department12/room1/temperature\n",
      "Client (port source) with LWT topic without wildcard: 41789\n",
      "Number of unique clients subscribing to LWT topics without wildcard: 3\n"
     ]
    }
   ],
   "source": [
    "mqtt_lwt__without_wildcard = set()\n",
    "mqtt_sub = set()\n",
    "\n",
    "# Identify unique LWT topics without wildcard\n",
    "for p in packets:\n",
    "    if p.haslayer(MQTTConnect) and p[MQTTConnect].willflag == 1: # Only MQTT Connect packets with Will flag set\n",
    "        if hasattr(p[MQTTConnect], 'willtopic') and p[MQTTConnect].willtopic:\n",
    "            will_topic = p[MQTTConnect].willtopic.decode() if isinstance(p[MQTTConnect].willtopic, bytes) else p[MQTTConnect].willtopic\n",
    "            # Check if the will topic does not contain wildcard\n",
    "            if \"#\" not in will_topic and \"+\" not in will_topic:\n",
    "                mqtt_lwt__without_wildcard.add(will_topic)\n",
    "\n",
    "# Print the unique LWT topics without wildcard\n",
    "print(f\"Unique LWT topics without wildcard: {mqtt_lwt__without_wildcard}\")\n",
    "# Print the number of unique LWT topics without wildcard\n",
    "print(f\"Number of unique LWT topics without wildcard: {len(mqtt_lwt__without_wildcard)}\")\n",
    "\n",
    "# Count unique clients subscribing to these topics\n",
    "for p in packets:\n",
    "    if (\n",
    "        p.haslayer(MQTTSubscribe) # Only MQTT Subscribe packets\n",
    "    ):\n",
    "    \n",
    "        found_topic = None \n",
    "        # Check if the packet has topics \n",
    "        if hasattr(p[MQTTSubscribe], \"topics\") and isinstance(p[MQTTSubscribe].topics, list):\n",
    "            for topic_entry in p[MQTTSubscribe].topics:\n",
    "                if hasattr(topic_entry, \"topic\") and topic_entry.topic:\n",
    "                    found_topic = topic_entry.topic.decode() if isinstance(topic_entry.topic, bytes) else topic_entry.topic\n",
    "                    break\n",
    "                \n",
    "        # Check if the packet has a Raw layer\n",
    "        if not found_topic and p.haslayer(Raw): \n",
    "            raw_data = p[Raw].load\n",
    "            found_topic = raw_data[:-1].decode()\n",
    "        \n",
    "        # Check if the topic is in the set of unique LWT topics without wildcard\n",
    "        if found_topic and found_topic in mqtt_lwt__without_wildcard:\n",
    "            print(f\"Will topic: {found_topic}\")\n",
    "            mqtt_sub.add(p[TCP].sport)\n",
    "            print(f\"Client (port source) with LWT topic without wildcard: {p[TCP].sport}\")\n",
    "\n",
    "# Count unique clients subscribing to these topics\n",
    "print(f\"Number of unique clients subscribing to LWT topics without wildcard: {len(mqtt_sub)}\")\n"
   ]
  },
  {
   "cell_type": "markdown",
   "metadata": {},
   "source": [
    "Result: 3"
   ]
  },
  {
   "cell_type": "markdown",
   "metadata": {},
   "source": [
    "## Question 6"
   ]
  },
  {
   "cell_type": "markdown",
   "metadata": {},
   "source": [
    "How many MQTT publish messages directed to the public broker mosquitto are sent with the retain option and use QoS “At most once”?"
   ]
  },
  {
   "cell_type": "code",
   "execution_count": 47,
   "metadata": {},
   "outputs": [
    {
     "name": "stdout",
     "output_type": "stream",
     "text": [
      "mosquitto IPs: {'5.196.78.28'}\n"
     ]
    }
   ],
   "source": [
    "# Find IPs of mosquitto server by looking to the DNS requests\n",
    "mosquitto = []\n",
    "for p in packets:\n",
    "    if (\n",
    "        p.haslayer(DNSRR) # Only DNS Resource Record packets\n",
    "        and p[DNSRR].type == 1 # Only records of type A\n",
    "        # Only records for the mosquitto server\n",
    "        and p[DNSRR].rrname == b'test.mosquitto.org.'\n",
    "    ):\n",
    "        mosquitto.append(p[DNSRR].rdata)\n",
    "    \n",
    "# Only unique IPs\n",
    "mosquitto = set(mosquitto)\n",
    "print(\"mosquitto IPs:\", mosquitto)"
   ]
  },
  {
   "cell_type": "code",
   "execution_count": null,
   "metadata": {},
   "outputs": [
    {
     "name": "stdout",
     "output_type": "stream",
     "text": [
      "Number of MQTT PUBLISH packets with the specified conditions: 208\n"
     ]
    }
   ],
   "source": [
    "# List to store MQTT PUBLISH packets\n",
    "mqtt_publish_with_conditions = []\n",
    "\n",
    "for p in packets:\n",
    "    if (\n",
    "        p.haslayer(IP)  # Ensure IP layer exists\n",
    "        and p.haslayer(MQTT)  # Ensure MQTT layer exists\n",
    "        and p[IP].dst in mosquitto # IP address in mosquitto\n",
    "        and p[MQTT].QOS == 0  # Ensure QoS is 0 (At most once)\n",
    "        and p[MQTT].RETAIN == 1  # Ensure retain flag is set to 1\n",
    "        and p[MQTT].type == 3  # Ensure message type is 3 (PUBLISH)\n",
    "    ):\n",
    "        mqtt_publish_with_conditions.append(p)\n",
    "\n",
    "print(f\"Number of MQTT PUBLISH packets with the specified conditions: {len(mqtt_publish_with_conditions)}\")"
   ]
  },
  {
   "cell_type": "markdown",
   "metadata": {},
   "source": [
    "Result: 208"
   ]
  },
  {
   "cell_type": "markdown",
   "metadata": {},
   "source": [
    "## Question 7"
   ]
  },
  {
   "cell_type": "markdown",
   "metadata": {},
   "source": [
    "How many MQTT-SN messages on port 1885 are sent by the clients to a broker in the local machine?"
   ]
  },
  {
   "cell_type": "code",
   "execution_count": 60,
   "metadata": {},
   "outputs": [
    {
     "name": "stdout",
     "output_type": "stream",
     "text": [
      "7. MQTT-SN messages to local broker on port 1885: 0\n"
     ]
    }
   ],
   "source": [
    "mqtt_sn_messages_to_local_broker = 0\n",
    "local_broker_ip = \"127.0.0.1\"\n",
    "\n",
    "for packet in packets:\n",
    "    if packet.haslayer(UDP) and packet.haslayer(IP):  # Ensure both UDP and IP layers exist\n",
    "        ip_dst = packet[IP].dst\n",
    "        udp_layer = packet[UDP]\n",
    "        \n",
    "        if udp_layer.dport == 1885 and ip_dst == local_broker_ip:\n",
    "            mqtt_sn_messages_to_local_broker += 1\n",
    "\n",
    "print(f\"7. MQTT-SN messages to local broker on port 1885: {mqtt_sn_messages_to_local_broker}\")"
   ]
  },
  {
   "cell_type": "markdown",
   "metadata": {},
   "source": [
    "Result: 0"
   ]
  }
 ],
 "metadata": {
  "kernelspec": {
   "display_name": "Python 3",
   "language": "python",
   "name": "python3"
  },
  "language_info": {
   "codemirror_mode": {
    "name": "ipython",
    "version": 3
   },
   "file_extension": ".py",
   "mimetype": "text/x-python",
   "name": "python",
   "nbconvert_exporter": "python",
   "pygments_lexer": "ipython3",
   "version": "3.12.6"
  }
 },
 "nbformat": 4,
 "nbformat_minor": 2
}
